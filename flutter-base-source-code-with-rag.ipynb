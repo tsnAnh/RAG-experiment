{
 "cells": [
  {
   "cell_type": "code",
   "execution_count": 1,
   "id": "bfee6a57-dbf1-4955-832d-f52e9bd5957c",
   "metadata": {},
   "outputs": [
    {
     "name": "stderr",
     "output_type": "stream",
     "text": [
      "/home/tsnanh/miniconda3/lib/python3.12/site-packages/tqdm/auto.py:21: TqdmWarning: IProgress not found. Please update jupyter and ipywidgets. See https://ipywidgets.readthedocs.io/en/stable/user_install.html\n",
      "  from .autonotebook import tqdm as notebook_tqdm\n"
     ]
    }
   ],
   "source": [
    "from langchain import HuggingFaceHub\n",
    "from langchain_community.llms import Ollama\n",
    "from langchain_community.vectorstores import Qdrant\n",
    "from langchain_community.llms.huggingface_pipeline import HuggingFacePipeline\n",
    "from transformers import AutoModelForCausalLM, AutoTokenizer, pipeline\n",
    "from langchain_community.document_loaders import DirectoryLoader, TextLoader\n",
    "from langchain_community.embeddings import OllamaEmbeddings\n",
    "from langchain.text_splitter import RecursiveCharacterTextSplitter"
   ]
  },
  {
   "cell_type": "code",
   "execution_count": 3,
   "id": "ff029c1a-250a-4021-a9d0-0d2f3826bf60",
   "metadata": {},
   "outputs": [
    {
     "name": "stdout",
     "output_type": "stream",
     "text": [
      "Cloning into 'codebase'...\n",
      "remote: Enumerating objects: 218, done.\u001b[K\n",
      "remote: Counting objects: 100% (218/218), done.\u001b[K\n",
      "remote: Compressing objects: 100% (160/160), done.\u001b[K\n",
      "remote: Total 218 (delta 26), reused 209 (delta 19), pack-reused 0\u001b[K\n",
      "Receiving objects: 100% (218/218), 82.55 KiB | 1.10 MiB/s, done.\n",
      "Resolving deltas: 100% (26/26), done.\n"
     ]
    }
   ],
   "source": [
    "!git clone https://github.com/tsnAnh/flutter-bloc-base-source-code codebase"
   ]
  },
  {
   "cell_type": "code",
   "execution_count": 2,
   "id": "c6d31145-e618-4fc8-bfc4-6ec943d7d827",
   "metadata": {},
   "outputs": [
    {
     "name": "stdout",
     "output_type": "stream",
     "text": [
      "/home/tsnanh/PycharmProjects/project-estimation-creation-using-retrieval-augmented-generator\n"
     ]
    }
   ],
   "source": [
    "!pwd"
   ]
  },
  {
   "cell_type": "code",
   "execution_count": 3,
   "id": "4c6323a6-4677-48e0-bc10-4233e1c38b71",
   "metadata": {},
   "outputs": [],
   "source": [
    "import os\n",
    "\n",
    "def convert_files_to_txts(src_dir, dst_dir):\n",
    "    if not os.path.exists(dst_dir):\n",
    "        os.makedirs(dst_dir)\n",
    "\n",
    "    for root, dirs, files in os.walk(src_dir):\n",
    "        for file in files:\n",
    "            file_path = os.path.join(root, file)\n",
    "            rel_path = os.path.relpath(file_path, src_dir)\n",
    "            new_root = os.path.join(dst_dir, os.path.dirname(rel_path))\n",
    "            os.makedirs(new_root, exist_ok=True)\n",
    "\n",
    "            try:\n",
    "                with open(file_path, 'r', encoding='latin-1') as f:\n",
    "                    data = f.read()\n",
    "            except:\n",
    "                print(f'Failed to read the file: {file_path}')\n",
    "                continue\n",
    "\n",
    "            new_file_path = os.path.join(new_root, file + '.txt')\n",
    "            with open(new_file_path, 'w', encoding='utf-8') as f:\n",
    "                f.write(data)\n",
    "\n",
    "convert_files_to_txts('./codebase', './converted_codebase')\n",
    "            "
   ]
  },
  {
   "cell_type": "code",
   "execution_count": 2,
   "id": "2cdc2175-2a37-4307-9e34-e1b9245f9d71",
   "metadata": {},
   "outputs": [
    {
     "name": "stderr",
     "output_type": "stream",
     "text": [
      " 47%|███████████████▌                 | 110/233 [00:00<00:00, 5033.37it/s]"
     ]
    },
    {
     "name": "stdout",
     "output_type": "stream",
     "text": [
      "Number of files loaded:> 110\n",
      "Number of documents: 180\n"
     ]
    },
    {
     "name": "stderr",
     "output_type": "stream",
     "text": [
      "\n"
     ]
    }
   ],
   "source": [
    "src_dir = './converted_codebase'\n",
    "loader = DirectoryLoader(src_dir, show_progress=True, loader_cls=TextLoader)\n",
    "repo_files = loader.load()\n",
    "\n",
    "print(f'Number of files loaded:> {len(repo_files)}')\n",
    "\n",
    "text_splitter = RecursiveCharacterTextSplitter(chunk_size=1500, chunk_overlap=150)\n",
    "documents = text_splitter.split_documents(documents=repo_files)\n",
    "print(f'Number of documents: {len(documents)}')"
   ]
  },
  {
   "cell_type": "code",
   "execution_count": 3,
   "id": "59dd39eb-8e53-435f-ad70-847c26ad5e10",
   "metadata": {},
   "outputs": [],
   "source": [
    "for doc in documents:\n",
    "    old_path_with_txt_extension = doc.metadata['source']\n",
    "    new_path_without_txt_extension = old_path_with_txt_extension.replace('.txt', '')\n",
    "    doc.metadata.update({'source': new_path_without_txt_extension})"
   ]
  },
  {
   "cell_type": "code",
   "execution_count": 4,
   "id": "3c2b48f8-ea54-4b52-b048-c1d281ffebdd",
   "metadata": {},
   "outputs": [
    {
     "data": {
      "text/plain": [
       "[Document(page_content='buildscript {\\n    ext.kotlin_version = \\'1.7.21\\'\\n    repositories {\\n        google()\\n        mavenCentral()\\n    }\\n\\n    dependencies {\\n        classpath \\'com.android.tools.build:gradle:7.3.1\\'\\n        classpath \"org.jetbrains.kotlin:kotlin-gradle-plugin:$kotlin_version\"\\n    }\\n}\\n\\nallprojects {\\n    repositories {\\n        google()\\n        mavenCentral()\\n    }\\n}\\n\\nrootProject.buildDir = \\'../build\\'\\nsubprojects {\\n    project.buildDir = \"${rootProject.buildDir}/${project.name}\"\\n}\\nsubprojects {\\n    project.evaluationDependsOn(\\':app\\')\\n}\\n\\ntask clean(type: Delete) {\\n    delete rootProject.buildDir\\n}', metadata={'source': 'converted_codebase/android/build.gradle'}),\n",
       " Document(page_content='org.gradle.jvmargs=-Xmx1536M\\nandroid.useAndroidX=true\\nandroid.enableJetifier=true', metadata={'source': 'converted_codebase/android/gradle.properties'}),\n",
       " Document(page_content='include \\':app\\'\\n\\ndef localPropertiesFile = new File(rootProject.projectDir, \"local.properties\")\\ndef properties = new Properties()\\n\\nassert localPropertiesFile.exists()\\nlocalPropertiesFile.withReader(\"UTF-8\") { reader -> properties.load(reader) }\\n\\ndef flutterSdkPath = properties.getProperty(\"flutter.sdk\")\\nassert flutterSdkPath != null, \"flutter.sdk not set in local.properties\"\\napply from: \"$flutterSdkPath/packages/flutter_tools/gradle/app_plugin_loader.gradle\"', metadata={'source': 'converted_codebase/android/settings.gradle'}),\n",
       " Document(page_content='# Uncomment this line to define a global platform for your project\\n# platform :ios, \\'11.0\\'\\n\\n# CocoaPods analytics sends network stats synchronously affecting flutter build latency.\\nENV[\\'COCOAPODS_DISABLE_STATS\\'] = \\'true\\'\\n\\nproject \\'Runner\\', {\\n  \\'Debug\\' => :debug,\\n  \\'Profile\\' => :release,\\n  \\'Release\\' => :release,\\n}\\n\\ndef flutter_root\\n  generated_xcode_build_settings_path = File.expand_path(File.join(\\'..\\', \\'Flutter\\', \\'Generated.xcconfig\\'), __FILE__)\\n  unless File.exist?(generated_xcode_build_settings_path)\\n    raise \"#{generated_xcode_build_settings_path} must exist. If you\\'re running pod install manually, make sure flutter pub get is executed first\"\\n  end\\n\\n  File.foreach(generated_xcode_build_settings_path) do |line|\\n    matches = line.match(/FLUTTER_ROOT\\\\=(.*)/)\\n    return matches[1].strip if matches\\n  end\\n  raise \"FLUTTER_ROOT not found in #{generated_xcode_build_settings_path}. Try deleting Generated.xcconfig, then run flutter pub get\"\\nend\\n\\nrequire File.expand_path(File.join(\\'packages\\', \\'flutter_tools\\', \\'bin\\', \\'podhelper\\'), flutter_root)\\n\\nflutter_ios_podfile_setup\\n\\ntarget \\'Runner\\' do\\n  use_frameworks!\\n  use_modular_headers!\\n\\n  flutter_install_all_ios_pods File.dirname(File.realpath(__FILE__))\\nend\\n\\npost_install do |installer|\\n  installer.pods_project.targets.each do |target|\\n    flutter_additional_ios_build_settings(target)\\n  end\\nend', metadata={'source': 'converted_codebase/ios/Podfile'}),\n",
       " Document(page_content=\"enum AppFlavor {\\n  staging('https://631eb73e58a1c0fe9f562cec.mockapi.io/'),\\n  production('https://631eb73e58a1c0fe9f562cec.mockapi.io/');\\n\\n  final String baseUrl;\\n  // Flavor things...\\n\\n  const AppFlavor(this.baseUrl);\\n}\", metadata={'source': 'converted_codebase/lib/app_flavor.dart'})]"
      ]
     },
     "execution_count": 4,
     "metadata": {},
     "output_type": "execute_result"
    }
   ],
   "source": [
    "documents[10:15]"
   ]
  },
  {
   "cell_type": "code",
   "execution_count": 5,
   "id": "82e98592-abc7-441f-a868-04b0550f82bd",
   "metadata": {},
   "outputs": [],
   "source": [
    "model_name = \"mixtral\"\n",
    "model_kwargs = {'device': \"cuda\"}\n",
    "encode_kwargs = {\"normalize_embeddings\": True }\n",
    "embeddings = OllamaEmbeddings(model=model_name)"
   ]
  },
  {
   "cell_type": "code",
   "execution_count": 7,
   "id": "6760ee92-6e14-4e08-9911-7d5701bfa256",
   "metadata": {},
   "outputs": [],
   "source": [
    "llm = Ollama(model='mixtral')"
   ]
  },
  {
   "cell_type": "code",
   "execution_count": 8,
   "id": "e648fffa-d4da-4437-8f6b-9192dc376c7f",
   "metadata": {},
   "outputs": [],
   "source": [
    "qdrant = Qdrant.from_documents(documents, embeddings,\n",
    "                               path='./local_qdrant',\n",
    "                               collection_name='source_code_documents')"
   ]
  },
  {
   "cell_type": "code",
   "execution_count": 11,
   "id": "9733c518-66eb-4d31-9c0a-5126a422040b",
   "metadata": {},
   "outputs": [],
   "source": [
    "def pretty_print_docs(documents):\n",
    "    for doc in documents:\n",
    "        print(doc.metadata)\n",
    "        print(' - - - - - - - - - - - - - - - - - - - - - - - - - - - - - - - ')\n",
    "        print(doc.page_content)"
   ]
  },
  {
   "cell_type": "code",
   "execution_count": 15,
   "id": "a40574b5-3176-4a9a-bf0f-4a6210ce0c43",
   "metadata": {},
   "outputs": [
    {
     "name": "stdout",
     "output_type": "stream",
     "text": [
      "{'source': 'converted_codebase/lib/screens/login/login.dart', '_id': '7e7980addba94fec9a1f6b624c0e8766', '_collection_name': 'source_code_documents'}\n",
      " - - - - - - - - - - - - - - - - - - - - - - - - - - - - - - - \n",
      "export 'login_screen.dart';\n",
      "{'source': 'converted_codebase/lib/domain/domain.dart', '_id': '5378ad0200394e7a89342aeaf16210c1', '_collection_name': 'source_code_documents'}\n",
      " - - - - - - - - - - - - - - - - - - - - - - - - - - - - - - - \n",
      "export './repositories/city_repository.dart';\n",
      "{'source': 'converted_codebase/lib/common/extensions/extensions.dart', '_id': 'bd85eaeadead42ecb45ee790fe48adad', '_collection_name': 'source_code_documents'}\n",
      " - - - - - - - - - - - - - - - - - - - - - - - - - - - - - - - \n",
      "export 'context.dart';\n",
      "{'source': 'converted_codebase/ios/Runner.xcodeproj/project.pbxproj', '_id': '3a1c9b4a58a84652af85d05195633f73', '_collection_name': 'source_code_documents'}\n",
      " - - - - - - - - - - - - - - - - - - - - - - - - - - - - - - - \n",
      "4A8A4D2DDB56F31A39AA2C4E /* Pods-Runner.debug.xcconfig */ = {isa = PBXFileReference; includeInIndex = 1; lastKnownFileType = text.xcconfig; name = \"Pods-Runner.debug.xcconfig\"; path = \"Target Support Files/Pods-Runner/Pods-Runner.debug.xcconfig\"; sourceTree = \"<group>\"; };\n",
      "\t\t74858FAD1ED2DC5600515810 /* Runner-Bridging-Header.h */ = {isa = PBXFileReference; lastKnownFileType = sourcecode.c.h; path = \"Runner-Bridging-Header.h\"; sourceTree = \"<group>\"; };\n",
      "\t\t74858FAE1ED2DC5600515810 /* AppDelegate.swift */ = {isa = PBXFileReference; fileEncoding = 4; lastKnownFileType = sourcecode.swift; path = AppDelegate.swift; sourceTree = \"<group>\"; };\n",
      "\t\t7AFA3C8E1D35360C0083082E /* Release.xcconfig */ = {isa = PBXFileReference; lastKnownFileType = text.xcconfig; name = Release.xcconfig; path = Flutter/Release.xcconfig; sourceTree = \"<group>\"; };\n",
      "\t\t9740EEB21CF90195004384FC /* Debug.xcconfig */ = {isa = PBXFileReference; fileEncoding = 4; lastKnownFileType = text.xcconfig; name = Debug.xcconfig; path = Flutter/Debug.xcconfig; sourceTree = \"<group>\"; };\n",
      "\t\t9740EEB31CF90195004384FC /* Generated.xcconfig */ = {isa = PBXFileReference; fileEncoding = 4; lastKnownFileType = text.xcconfig; name = Generated.xcconfig; path = Flutter/Generated.xcconfig; sourceTree = \"<group>\"; };\n",
      "\t\t97C146EE1CF9000F007C117D /* Runner.app */ = {isa = PBXFileReference; explicitFileType = wrapper.application; includeInIndex = 0; path = Runner.app; sourceTree = BUILT_PRODUCTS_DIR; };\n"
     ]
    }
   ],
   "source": [
    "query = 'repository'\n",
    "found_docs = qdrant.similarity_search(query)\n",
    "pretty_print_docs(found_docs)"
   ]
  },
  {
   "cell_type": "code",
   "execution_count": 28,
   "id": "12491e0d-7623-4fd7-8b9f-46b869f0b131",
   "metadata": {},
   "outputs": [],
   "source": [
    "from langchain.chains import RetrievalQA\n",
    "qa = RetrievalQA.from_chain_type(llm=llm,\n",
    " chain_type=\"stuff\",\n",
    " retriever=qdrant.as_retriever(search_kwargs={\"k\":10}),\n",
    " return_source_documents=True)"
   ]
  },
  {
   "cell_type": "code",
   "execution_count": 32,
   "id": "4d231daf-9055-4504-a444-a08ba0b7ff02",
   "metadata": {},
   "outputs": [
    {
     "name": "stdout",
     "output_type": "stream",
     "text": [
      "{'query': 'List all the screens in this project', 'result': \" Based on the provided code, here are the named screens/widgets I can find:\\n\\n1. `login_screen.dart`\\n2. The screen or widget related to `HomeBloc` and `HomeCubit`, which might be the home screen of the application, but there's no specific name provided in the code.\\n\\nPlease note that this answer is based on the given context. There might be other screens in the project that are not included in the provided code snippets.\", 'source_documents': [Document(page_content=\"export './repositories/city_repository.dart';\", metadata={'source': 'converted_codebase/lib/domain/domain.dart', '_id': '5378ad0200394e7a89342aeaf16210c1', '_collection_name': 'source_code_documents'}), Document(page_content=\"export 'login_screen.dart';\", metadata={'source': 'converted_codebase/lib/screens/login/login.dart', '_id': '7e7980addba94fec9a1f6b624c0e8766', '_collection_name': 'source_code_documents'}), Document(page_content='// Use enum for simple events or use class for complex events\\nenum HomeEvent { loadCities }', metadata={'source': 'converted_codebase/lib/screens/home/bloc/home_event.dart', '_id': '303dc2aae6db4205af121496096fddfb', '_collection_name': 'source_code_documents'}), Document(page_content=\"export 'context.dart';\", metadata={'source': 'converted_codebase/lib/common/extensions/extensions.dart', '_id': 'bd85eaeadead42ecb45ee790fe48adad', '_collection_name': 'source_code_documents'}), Document(page_content='echo \"Updating...\"', metadata={'source': 'converted_codebase/scripts/update-package.sh', '_id': '64af29bdfdbd48388f5e73a32a3fb596', '_collection_name': 'source_code_documents'}), Document(page_content=\"import 'dart:async';\\n\\nimport 'package:flutter_bloc/flutter_bloc.dart';\\n\\nimport '../../../domain/repositories/city_repository.dart';\\nimport '../../../models/dtos/city.dart';\\n\\nfinal class HomeCubit extends Cubit<List<City>> {\\n  HomeCubit(this.repository) : super(/* initial state ==> */ []);\\n\\n  final CityRepository repository;\\n\\n  /// Functions contain async logics should return [Future] type\\n  Future<void> _fetchTexts() async {\\n    final citiesEither = await repository.getCities();\\n    citiesEither.fold(\\n      ifLeft: (_) => emit([]),\\n      ifRight: (cities) => emit(cities),\\n    );\\n  }\\n\\n  /// Cubit or Bloc should expose normal functions (functions not return a [Future])\\n  /// to UI layer\\n  /// Consider use [unawaited] function for calling functions that return [Future]\\n  /// Not all futures need to be awaited\\n  void displaySomeText() => unawaited(_fetchTexts());\\n}\", metadata={'source': 'converted_codebase/lib/screens/home/cubit/home_cubit.dart', '_id': 'b20fe30bf85944cabfe0e5c305770e23', '_collection_name': 'source_code_documents'}), Document(page_content=\"import 'package:flutter_bloc/flutter_bloc.dart';\\n\\nimport '../../../domain/domain.dart';\\nimport 'home_event.dart';\\nimport 'home_state.dart';\\n\\nfinal class HomeBloc extends Bloc<HomeEvent, HomeState> {\\n  HomeBloc(this.repository) : super(HomeInitial()) {\\n    on<HomeEvent>(\\n      (event, emit) async {\\n        await _handleHomeEvent(event, emit);\\n      },\\n    );\\n  }\\n\\n  final CityRepository repository;\\n\\n  Future<void> _handleHomeEvent(\\n    HomeEvent event,\\n    Emitter<HomeState> emit,\\n  ) async {\\n    switch (event) {\\n      case HomeEvent.loadCities:\\n        await _handleLoadCitiesEvent(emit);\\n        break;\\n    }\\n  }\\n\\n  Future<void> _handleLoadCitiesEvent(Emitter<HomeState> emit) async {\\n    emit(CitiesLoading());\\n    final either = await repository.getCities();\\n    either.fold(\\n      ifLeft: (error) => emit(LoadCitiesError(error)),\\n      ifRight: (cities) => emit(LoadCitiesSuccess(cities)),\\n    );\\n  }\\n}\", metadata={'source': 'converted_codebase/lib/screens/home/bloc/home_bloc.dart', '_id': '7a539ac7848f4f158c7c19ccd2607b9c', '_collection_name': 'source_code_documents'}), Document(page_content='break;\\n    case FormatType.custom:\\n      final hasLocale = locale != null && locale.isNotEmpty;\\n      formattedValue =\\n          NumberFormat(format, hasLocale ? locale : null).format(value);\\n  }', metadata={'source': 'converted_codebase/lib/common/utils/utils.dart', '_id': 'eec4a557c4ea457a8210b5ac1817e6be', '_collection_name': 'source_code_documents'}), Document(page_content=\"void setDarkModeSetting(BuildContext context, ThemeMode themeMode) =>\\n    AppView.of(context).setThemeMode(themeMode);\\n\\nvoid showSnackbar(\\n    BuildContext context,\\n    String message, {\\n      bool loading = false,\\n      int duration = 4,\\n    }) {\\n  ScaffoldMessenger.of(context).hideCurrentSnackBar();\\n  ScaffoldMessenger.of(context).showSnackBar(\\n    SnackBar(\\n      content: Row(\\n        children: [\\n          if (loading)\\n            const Padding(\\n              padding: EdgeInsetsDirectional.only(end: 10.0),\\n              child: SizedBox(\\n                height: 20,\\n                width: 20,\\n                child: CircularProgressIndicator(\\n                  color: Colors.white,\\n                ),\\n              ),\\n            ),\\n          Text(message),\\n        ],\\n      ),\\n      duration: Duration(seconds: duration),\\n    ),\\n  );\\n}\\n\\nextension StringExt on String {\\n  String maybeHandleOverflow({int? maxChars, String replacement = ''}) =>\\n      maxChars != null && length > maxChars\\n          ? replaceRange(maxChars, null, replacement)\\n          : this;\\n}\\n\\nextension ListFilterExt<T> on Iterable<T?> {\\n  List<T> get withoutNulls => where((s) => s != null).map((e) => e!).toList();\\n}\\n\\nextension ListDivideExt<T extends Widget> on Iterable<T> {\\n  Iterable<MapEntry<int, Widget>> get enumerate => toList().asMap().entries;\\n\\n  List<Widget> divide(Widget t) => isEmpty\\n      ? []\\n      : (enumerate.map((e) => [e.value, t]).expand((i) => i).toList()\\n    ..removeLast());\", metadata={'source': 'converted_codebase/lib/common/utils/utils.dart', '_id': '6b41b104917b4b5383b98043f338370f', '_collection_name': 'source_code_documents'}), Document(page_content='#Fri Jun 23 08:50:38 CEST 2017\\ndistributionBase=GRADLE_USER_HOME\\ndistributionPath=wrapper/dists\\nzipStoreBase=GRADLE_USER_HOME\\nzipStorePath=wrapper/dists\\ndistributionUrl=https\\\\://services.gradle.org/distributions/gradle-7.5.1-all.zip', metadata={'source': 'converted_codebase/android/gradle/wrapper/gradle-wrapper.properties', '_id': '182e52dd4b9b4cf7bbc3886825a45291', '_collection_name': 'source_code_documents'})]}\n",
      " Based on the provided code, here are the named screens/widgets I can find:\n",
      "\n",
      "1. `login_screen.dart`\n",
      "2. The screen or widget related to `HomeBloc` and `HomeCubit`, which might be the home screen of the application, but there's no specific name provided in the code.\n",
      "\n",
      "Please note that this answer is based on the given context. There might be other screens in the project that are not included in the provided code snippets.\n"
     ]
    }
   ],
   "source": [
    "response = qa.invoke(\"\"\"List all the screens in this project\"\"\")\n",
    "print(response)\n",
    "print(response['result'])"
   ]
  },
  {
   "cell_type": "code",
   "execution_count": null,
   "id": "0848211b-37e4-4f96-ac20-bc94a0d32402",
   "metadata": {},
   "outputs": [],
   "source": []
  }
 ],
 "metadata": {
  "kernelspec": {
   "display_name": "Python 3 (ipykernel)",
   "language": "python",
   "name": "python3"
  },
  "language_info": {
   "codemirror_mode": {
    "name": "ipython",
    "version": 3
   },
   "file_extension": ".py",
   "mimetype": "text/x-python",
   "name": "python",
   "nbconvert_exporter": "python",
   "pygments_lexer": "ipython3",
   "version": "3.12.2"
  }
 },
 "nbformat": 4,
 "nbformat_minor": 5
}
